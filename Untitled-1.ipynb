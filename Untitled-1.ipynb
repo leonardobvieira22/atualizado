{
 "cells": [
  {
   "cell_type": "markdown",
   "id": "2192a4e4",
   "metadata": {},
   "source": [
    "# Notebook para análise de oportunidades perdidas\n",
    "\n",
    "Este notebook realiza uma análise exploratória sobre as oportunidades perdidas registradas no arquivo `oportunidades_perdidas.csv`."
   ]
  },
  {
   "cell_type": "markdown",
   "id": "dc5976cf",
   "metadata": {},
   "source": [
    "## Importação das Bibliotecas Necessárias\n",
    "\n",
    "Importe pandas, numpy, matplotlib e seaborn para manipulação e visualização dos dados."
   ]
  },
  {
   "cell_type": "code",
   "execution_count": null,
   "id": "150f28d4",
   "metadata": {},
   "outputs": [],
   "source": [
    "import pandas as pd\n",
    "import numpy as np\n",
    "import matplotlib.pyplot as plt\n",
    "import seaborn as sns\n",
    "\n",
    "# Configurações de visualização\n",
    "plt.style.use('seaborn-v0_8')\n",
    "sns.set_palette('pastel')\n",
    "%matplotlib inline"
   ]
  },
  {
   "cell_type": "markdown",
   "id": "1f38ae2b",
   "metadata": {},
   "source": [
    "## Carregamento e Visualização Inicial dos Dados\n",
    "\n",
    "Carregue o arquivo `oportunidades_perdidas.csv` e exiba as primeiras linhas para inspeção inicial."
   ]
  },
  {
   "cell_type": "code",
   "execution_count": null,
   "id": "03175bb7",
   "metadata": {},
   "outputs": [],
   "source": [
    "# Carregar o arquivo CSV com tratamento de exceções\n",
    "try:\n",
    "    df = pd.read_csv('oportunidades_perdidas.csv')\n",
    "    print('Arquivo carregado com sucesso!')\n",
    "except FileNotFoundError:\n",
    "    print('Arquivo oportunidades_perdidas.csv não encontrado.')\n",
    "    df = pd.DataFrame()\n",
    "except Exception as e:\n",
    "    print(f'Erro ao carregar o arquivo: {e}')\n",
    "    df = pd.DataFrame()\n",
    "\n",
    "# Exibir as primeiras linhas se o DataFrame não estiver vazio\n",
    "if not df.empty:\n",
    "    display(df.head())\n",
    "else:\n",
    "    print('DataFrame vazio.')"
   ]
  },
  {
   "cell_type": "markdown",
   "id": "d320580d",
   "metadata": {},
   "source": [
    "## Limpeza e Preparação dos Dados\n",
    "\n",
    "Trate valores ausentes, ajuste tipos de dados e remova duplicatas se necessário."
   ]
  },
  {
   "cell_type": "code",
   "execution_count": null,
   "id": "559056bb",
   "metadata": {},
   "outputs": [],
   "source": [
    "# Verificar informações gerais e tratar dados apenas se o DataFrame não estiver vazio\n",
    "if not df.empty:\n",
    "    print(df.info())\n",
    "    print(df.isnull().sum())\n",
    "    # Ajustar tipos de dados se a coluna existir\n",
    "    if 'timestamp' in df.columns:\n",
    "        df['timestamp'] = pd.to_datetime(df['timestamp'], errors='coerce')\n",
    "    # Remover duplicatas\n",
    "    df = df.drop_duplicates()\n",
    "    display(df.head())\n",
    "else:\n",
    "    print('DataFrame vazio. Não é possível limpar ou preparar os dados.')"
   ]
  },
  {
   "cell_type": "markdown",
   "id": "15db3790",
   "metadata": {},
   "source": [
    "## Análise Exploratória: Quantidade de Oportunidades Perdidas por Robô\n",
    "\n",
    "Agrupe os dados pelo campo `robot_name` e conte o número de oportunidades perdidas por robô."
   ]
  },
  {
   "cell_type": "code",
   "execution_count": null,
   "id": "d925cb82",
   "metadata": {},
   "outputs": [],
   "source": [
    "# Contar oportunidades perdidas por robô, se a coluna existir\n",
    "if 'robot_name' in df.columns:\n",
    "    oportunidades_por_robo = df['robot_name'].value_counts().sort_values(ascending=False)\n",
    "    print(oportunidades_por_robo)\n",
    "else:\n",
    "    print('Coluna robot_name não encontrada.')"
   ]
  },
  {
   "cell_type": "markdown",
   "id": "bf15dca6",
   "metadata": {},
   "source": [
    "## Análise Exploratória: Oportunidades Perdidas por Par de Moedas\n",
    "\n",
    "Agrupe os dados pelo campo `par` e conte as oportunidades perdidas por cada par de moedas."
   ]
  },
  {
   "cell_type": "code",
   "execution_count": null,
   "id": "d87d5dd2",
   "metadata": {},
   "outputs": [],
   "source": [
    "# Contar oportunidades perdidas por par de moedas, se a coluna existir\n",
    "if 'par' in df.columns:\n",
    "    oportunidades_por_par = df['par'].value_counts().sort_values(ascending=False)\n",
    "    print(oportunidades_por_par)\n",
    "else:\n",
    "    print('Coluna par não encontrada.')"
   ]
  },
  {
   "cell_type": "markdown",
   "id": "d9b73c0c",
   "metadata": {},
   "source": [
    "## Análise Exploratória: Oportunidades Perdidas por Timeframe\n",
    "\n",
    "Analise a distribuição das oportunidades perdidas por timeframe."
   ]
  },
  {
   "cell_type": "code",
   "execution_count": null,
   "id": "19fb8ef3",
   "metadata": {},
   "outputs": [],
   "source": [
    "# Contar oportunidades perdidas por timeframe, se a coluna existir\n",
    "if 'timeframe' in df.columns:\n",
    "    oportunidades_por_timeframe = df['timeframe'].value_counts().sort_values(ascending=False)\n",
    "    print(oportunidades_por_timeframe)\n",
    "else:\n",
    "    print('Coluna timeframe não encontrada.')"
   ]
  },
  {
   "cell_type": "markdown",
   "id": "e6ce1a8b",
   "metadata": {},
   "source": [
    "## Análise Exploratória: Principais Indicadores Contribuintes\n",
    "\n",
    "Identifique e conte os indicadores mais frequentes na coluna `contributing_indicators`."
   ]
  },
  {
   "cell_type": "code",
   "execution_count": null,
   "id": "3ae10f43",
   "metadata": {},
   "outputs": [],
   "source": [
    "# Separar e contar indicadores, se a coluna existir\n",
    "from collections import Counter\n",
    "if 'contributing_indicators' in df.columns:\n",
    "    indicadores = df['contributing_indicators'].dropna().str.split(';').explode()\n",
    "    contagem_indicadores = Counter(indicadores)\n",
    "    indicadores_mais_frequentes = pd.Series(contagem_indicadores).sort_values(ascending=False)\n",
    "    print(indicadores_mais_frequentes)\n",
    "else:\n",
    "    print('Coluna contributing_indicators não encontrada.')"
   ]
  },
  {
   "cell_type": "markdown",
   "id": "6ce31e80",
   "metadata": {},
   "source": [
    "## Análise Exploratória: Principais Motivos das Oportunidades Perdidas\n",
    "\n",
    "Liste e conte os principais motivos presentes na coluna `reason`."
   ]
  },
  {
   "cell_type": "code",
   "execution_count": null,
   "id": "f82554f6",
   "metadata": {},
   "outputs": [],
   "source": [
    "# Contar motivos das oportunidades perdidas, se a coluna existir\n",
    "if 'reason' in df.columns:\n",
    "    motivos = df['reason'].value_counts().sort_values(ascending=False)\n",
    "    print(motivos)\n",
    "else:\n",
    "    print('Coluna reason não encontrada.')"
   ]
  },
  {
   "cell_type": "markdown",
   "id": "7ba43a47",
   "metadata": {},
   "source": [
    "## Visualização Gráfica dos Resultados\n",
    "\n",
    "Crie gráficos de barras e pizza para visualizar as análises realizadas."
   ]
  },
  {
   "cell_type": "code",
   "execution_count": null,
   "id": "533cdce8",
   "metadata": {},
   "outputs": [],
   "source": [
    "# Visualizações gráficas condicionais para evitar erros\n",
    "if 'robot_name' in df.columns and not df.empty:\n",
    "    plt.figure(figsize=(10,5))\n",
    "    sns.barplot(x=oportunidades_por_robo.index, y=oportunidades_por_robo.values)\n",
    "    plt.title('Oportunidades Perdidas por Robô')\n",
    "    plt.xlabel('Robô')\n",
    "    plt.ylabel('Quantidade')\n",
    "    plt.xticks(rotation=45, ha='right')\n",
    "    plt.tight_layout()\n",
    "    plt.show()\n",
    "if 'par' in df.columns and not df.empty:\n",
    "    plt.figure(figsize=(8,4))\n",
    "    sns.barplot(x=oportunidades_por_par.index, y=oportunidades_por_par.values)\n",
    "    plt.title('Oportunidades Perdidas por Par de Moedas')\n",
    "    plt.xlabel('Par')\n",
    "    plt.ylabel('Quantidade')\n",
    "    plt.xticks(rotation=45, ha='right')\n",
    "    plt.tight_layout()\n",
    "    plt.show()\n",
    "if 'timeframe' in df.columns and not df.empty:\n",
    "    plt.figure(figsize=(6,4))\n",
    "    sns.barplot(x=oportunidades_por_timeframe.index, y=oportunidades_por_timeframe.values)\n",
    "    plt.title('Oportunidades Perdidas por Timeframe')\n",
    "    plt.xlabel('Timeframe')\n",
    "    plt.ylabel('Quantidade')\n",
    "    plt.tight_layout()\n",
    "    plt.show()\n",
    "if 'contributing_indicators' in df.columns and not df.empty and 'indicadores_mais_frequentes' in locals():\n",
    "    plt.figure(figsize=(6,6))\n",
    "    indicadores_mais_frequentes.head(10).plot.pie(autopct='%1.1f%%')\n",
    "    plt.title('Top 10 Indicadores Contribuintes')\n",
    "    plt.ylabel('')\n",
    "    plt.show()\n",
    "if 'reason' in df.columns and not df.empty:\n",
    "    plt.figure(figsize=(8,4))\n",
    "    sns.barplot(x=motivos.index, y=motivos.values)\n",
    "    plt.title('Principais Motivos das Oportunidades Perdidas')\n",
    "    plt.xlabel('Motivo')\n",
    "    plt.ylabel('Quantidade')\n",
    "    plt.xticks(rotation=45, ha='right')\n",
    "    plt.tight_layout()\n",
    "    plt.show()"
   ]
  }
 ],
 "metadata": {
  "language_info": {
   "name": "python"
  }
 },
 "nbformat": 4,
 "nbformat_minor": 5
}
